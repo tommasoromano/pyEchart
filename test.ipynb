{
 "cells": [
  {
   "cell_type": "code",
   "execution_count": 1,
   "metadata": {},
   "outputs": [
    {
     "name": "stdout",
     "output_type": "stream",
     "text": [
      "{'top': 20, 'text': 'h1', 'subText': 'h2', 'textStyle': {}, 'subTextStyle': {}}\n"
     ]
    }
   ],
   "source": [
    "from echarts.option import *\n",
    "from echarts.props import *\n",
    "t = Title(Left('auto'),Top(20), Text('h1'),SubText('h2'), TextStyle(), SubTextStyle())\n",
    "print(t.to_dict())"
   ]
  },
  {
   "cell_type": "code",
   "execution_count": 2,
   "metadata": {},
   "outputs": [
    {
     "ename": "SyntaxError",
     "evalue": "positional argument follows keyword argument (<ipython-input-2-1bf44d196579>, line 1)",
     "output_type": "error",
     "traceback": [
      "\u001b[0;36m  File \u001b[0;32m\"<ipython-input-2-1bf44d196579>\"\u001b[0;36m, line \u001b[0;32m1\u001b[0m\n\u001b[0;31m    l = LineStyle(type='dashed',Color('#000'))\u001b[0m\n\u001b[0m                                             ^\u001b[0m\n\u001b[0;31mSyntaxError\u001b[0m\u001b[0;31m:\u001b[0m positional argument follows keyword argument\n"
     ]
    }
   ],
   "source": [
    "l = LineStyle(Type('solid'),Color('#000'))\n",
    "print(l.to_dict())"
   ]
  }
 ],
 "metadata": {
  "interpreter": {
   "hash": "aee8b7b246df8f9039afb4144a1f6fd8d2ca17a180786b69acc140d282b71a49"
  },
  "kernelspec": {
   "display_name": "Python 3.9.2 64-bit",
   "language": "python",
   "name": "python3"
  },
  "language_info": {
   "codemirror_mode": {
    "name": "ipython",
    "version": 3
   },
   "file_extension": ".py",
   "mimetype": "text/x-python",
   "name": "python",
   "nbconvert_exporter": "python",
   "pygments_lexer": "ipython3",
   "version": "3.9.2"
  },
  "orig_nbformat": 4
 },
 "nbformat": 4,
 "nbformat_minor": 2
}
